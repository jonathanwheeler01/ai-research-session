{
 "cells": [
  {
   "cell_type": "markdown",
   "id": "0a42ddf1-e05f-4b81-bdb7-e5dd82b04a05",
   "metadata": {},
   "source": [
    "# Ethical Issues in Generative AI Development and Use\n",
    "-----------------------------------------------------\n",
    "\n",
    "This is a big topic, one we could spend many hours discussing. When using tools like ChatGPT for work, research, creative works, etc., we need to be mindful of issues including:\n",
    "\n",
    "- **Bias:** Models are trained on content from across the web. The biases inherent in our systems can carry over into the responses from ChatGPT and other services (see for example <https://www.npr.org/sections/goatsandsoda/2023/10/06/1201840678/ai-was-asked-to-create-images-of-black-african-docs-treating-white-kids-howd-it->).\n",
    "- **Content controls:** Many systems implement controls in order to try to reduce bias, misinformation, or the inclusion of harmful information in responses. The sensitivity of these controls can limit the ability of generative AI tools to respond to research related prompts that touch on sensitive topics.\n",
    "- **Copyright:** Generative AI responses cannot be copyrighted, but systems like ChatGPT can be trained using content uploaded via prompts. This has a broad range of implications in terms of privacy, academic and artistic integrity, and access and use of the texts that are used to train LLMs.\n",
    "- **Creator's rights:** Related to copyright, but worth separate consideration. ChatGPT and other LLMs are trained on text from the open web, but also on copyrighted, non-public materials obtained via agreements with publishers and other content providers. Implications include prompts that request a response *in the style of...* Is it okay to ask for a sonnet in the style of Shakespeare? What about flash science fiction in the style of Nnedi Okorafor? What about when you are the creator, for example asking for a critique of a story or manuscript? Knowing that ChatGPT may use your prompts to train future models, are you in fact providing free labor to OpenAI?\n",
    "- **Equity and social justice:** Training LLMs is computationally intensive, which has implications related to the environment, equitable access to resources, and education.\n"
   ]
  },
  {
   "cell_type": "code",
   "execution_count": null,
   "id": "3ef60d8e-4d3c-45a6-822b-2f5502905657",
   "metadata": {},
   "outputs": [],
   "source": []
  }
 ],
 "metadata": {
  "kernelspec": {
   "display_name": "Python 3 (ipykernel)",
   "language": "python",
   "name": "python3"
  },
  "language_info": {
   "codemirror_mode": {
    "name": "ipython",
    "version": 3
   },
   "file_extension": ".py",
   "mimetype": "text/x-python",
   "name": "python",
   "nbconvert_exporter": "python",
   "pygments_lexer": "ipython3",
   "version": "3.9.18"
  }
 },
 "nbformat": 4,
 "nbformat_minor": 5
}
